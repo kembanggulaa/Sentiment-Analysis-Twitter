{
  "nbformat": 4,
  "nbformat_minor": 0,
  "metadata": {
    "colab": {
      "name": "Permodelan dan Klasifikasi.ipynb",
      "provenance": [],
      "collapsed_sections": [],
      "authorship_tag": "ABX9TyMYPbYGo/lNsORT7XW+a1ER",
      "include_colab_link": true
    },
    "kernelspec": {
      "name": "python3",
      "display_name": "Python 3"
    },
    "language_info": {
      "name": "python"
    }
  },
  "cells": [
    {
      "cell_type": "markdown",
      "metadata": {
        "id": "view-in-github",
        "colab_type": "text"
      },
      "source": [
        "<a href=\"https://colab.research.google.com/github/kembanggulaa/Sentiment-Analysis-Twitter/blob/cobaan/Permodelan_dan_Klasifikasi.ipynb\" target=\"_parent\"><img src=\"https://colab.research.google.com/assets/colab-badge.svg\" alt=\"Open In Colab\"/></a>"
      ]
    },
    {
      "cell_type": "code",
      "execution_count": null,
      "metadata": {
        "id": "ysKxuXkGNCbh"
      },
      "outputs": [],
      "source": [
        "#import library\n",
        "import pandas as pd\n",
        "import numpy as np\n",
        "import matplotlib.pyplot as plt\n",
        "import nltk\n",
        "import string\n",
        "import re"
      ]
    },
    {
      "cell_type": "code",
      "source": [
        "data_bersih = pd.read_csv(\"data_preprocessing.csv\", encoding = 'utf-8')\n",
        "data_bersih"
      ],
      "metadata": {
        "colab": {
          "base_uri": "https://localhost:8080/",
          "height": 424
        },
        "id": "2etV29RzNWT6",
        "outputId": "e5c34562-8369-43fa-f034-be7c0f7c0146"
      },
      "execution_count": null,
      "outputs": [
        {
          "output_type": "execute_result",
          "data": {
            "text/html": [
              "\n",
              "  <div id=\"df-b45065a2-1661-40e9-b5fc-9a9f99a23c24\">\n",
              "    <div class=\"colab-df-container\">\n",
              "      <div>\n",
              "<style scoped>\n",
              "    .dataframe tbody tr th:only-of-type {\n",
              "        vertical-align: middle;\n",
              "    }\n",
              "\n",
              "    .dataframe tbody tr th {\n",
              "        vertical-align: top;\n",
              "    }\n",
              "\n",
              "    .dataframe thead th {\n",
              "        text-align: right;\n",
              "    }\n",
              "</style>\n",
              "<table border=\"1\" class=\"dataframe\">\n",
              "  <thead>\n",
              "    <tr style=\"text-align: right;\">\n",
              "      <th></th>\n",
              "      <th>Tweet</th>\n",
              "      <th>Hasil</th>\n",
              "      <th>Preprocessing</th>\n",
              "    </tr>\n",
              "  </thead>\n",
              "  <tbody>\n",
              "    <tr>\n",
              "      <th>0</th>\n",
              "      <td>upah ditiadakan maklum pemerintah butuh duit b...</td>\n",
              "      <td>1</td>\n",
              "      <td>upah tiada maklum perintah butuh duit banyak b...</td>\n",
              "    </tr>\n",
              "    <tr>\n",
              "      <th>1</th>\n",
              "      <td>februari pertama kali kerja kantor berlokasi j...</td>\n",
              "      <td>1</td>\n",
              "      <td>februari pertama kali kerja kantor lokasi jaka...</td>\n",
              "    </tr>\n",
              "    <tr>\n",
              "      <th>2</th>\n",
              "      <td>ibukota negara baru didorong pemerataan ekonom...</td>\n",
              "      <td>1</td>\n",
              "      <td>ibukota negara baru dorong perata ekonomi nasi...</td>\n",
              "    </tr>\n",
              "    <tr>\n",
              "      <th>3</th>\n",
              "      <td>undang undang ibukota negara baru resmi disahk...</td>\n",
              "      <td>1</td>\n",
              "      <td>undang undang ibukota negara baru resmi sah ta...</td>\n",
              "    </tr>\n",
              "    <tr>\n",
              "      <th>4</th>\n",
              "      <td>ibukota negara baru demi transformasi pembangu...</td>\n",
              "      <td>1</td>\n",
              "      <td>ibukota negara baru transformasi bangun buni p...</td>\n",
              "    </tr>\n",
              "    <tr>\n",
              "      <th>...</th>\n",
              "      <td>...</td>\n",
              "      <td>...</td>\n",
              "      <td>...</td>\n",
              "    </tr>\n",
              "    <tr>\n",
              "      <th>712</th>\n",
              "      <td>fess bagus kalo proyek ibukota baru mulai jalan</td>\n",
              "      <td>1</td>\n",
              "      <td>fess bagus kalo proyek ibukota baru mulai jalan</td>\n",
              "    </tr>\n",
              "    <tr>\n",
              "      <th>713</th>\n",
              "      <td>bawah boleh pake misal nkri bubar bang ibukota...</td>\n",
              "      <td>1</td>\n",
              "      <td>bawah pake misal nkri bubar bang ibukota manta...</td>\n",
              "    </tr>\n",
              "    <tr>\n",
              "      <th>714</th>\n",
              "      <td>loren alasan benar lari dari kenyataan alias k...</td>\n",
              "      <td>1</td>\n",
              "      <td>loren alas benar lari nyata alias kalau maling...</td>\n",
              "    </tr>\n",
              "    <tr>\n",
              "      <th>715</th>\n",
              "      <td>partai selingkuh ibukota urus dulu kader parta...</td>\n",
              "      <td>-1</td>\n",
              "      <td>partai selingkuh ibukota urus dulu kader parta...</td>\n",
              "    </tr>\n",
              "    <tr>\n",
              "      <th>716</th>\n",
              "      <td>lagi gencar cari dana buat ibukota baru bedany...</td>\n",
              "      <td>-1</td>\n",
              "      <td>gencar cari dana buat ibukota baru beda sama</td>\n",
              "    </tr>\n",
              "  </tbody>\n",
              "</table>\n",
              "<p>717 rows × 3 columns</p>\n",
              "</div>\n",
              "      <button class=\"colab-df-convert\" onclick=\"convertToInteractive('df-b45065a2-1661-40e9-b5fc-9a9f99a23c24')\"\n",
              "              title=\"Convert this dataframe to an interactive table.\"\n",
              "              style=\"display:none;\">\n",
              "        \n",
              "  <svg xmlns=\"http://www.w3.org/2000/svg\" height=\"24px\"viewBox=\"0 0 24 24\"\n",
              "       width=\"24px\">\n",
              "    <path d=\"M0 0h24v24H0V0z\" fill=\"none\"/>\n",
              "    <path d=\"M18.56 5.44l.94 2.06.94-2.06 2.06-.94-2.06-.94-.94-2.06-.94 2.06-2.06.94zm-11 1L8.5 8.5l.94-2.06 2.06-.94-2.06-.94L8.5 2.5l-.94 2.06-2.06.94zm10 10l.94 2.06.94-2.06 2.06-.94-2.06-.94-.94-2.06-.94 2.06-2.06.94z\"/><path d=\"M17.41 7.96l-1.37-1.37c-.4-.4-.92-.59-1.43-.59-.52 0-1.04.2-1.43.59L10.3 9.45l-7.72 7.72c-.78.78-.78 2.05 0 2.83L4 21.41c.39.39.9.59 1.41.59.51 0 1.02-.2 1.41-.59l7.78-7.78 2.81-2.81c.8-.78.8-2.07 0-2.86zM5.41 20L4 18.59l7.72-7.72 1.47 1.35L5.41 20z\"/>\n",
              "  </svg>\n",
              "      </button>\n",
              "      \n",
              "  <style>\n",
              "    .colab-df-container {\n",
              "      display:flex;\n",
              "      flex-wrap:wrap;\n",
              "      gap: 12px;\n",
              "    }\n",
              "\n",
              "    .colab-df-convert {\n",
              "      background-color: #E8F0FE;\n",
              "      border: none;\n",
              "      border-radius: 50%;\n",
              "      cursor: pointer;\n",
              "      display: none;\n",
              "      fill: #1967D2;\n",
              "      height: 32px;\n",
              "      padding: 0 0 0 0;\n",
              "      width: 32px;\n",
              "    }\n",
              "\n",
              "    .colab-df-convert:hover {\n",
              "      background-color: #E2EBFA;\n",
              "      box-shadow: 0px 1px 2px rgba(60, 64, 67, 0.3), 0px 1px 3px 1px rgba(60, 64, 67, 0.15);\n",
              "      fill: #174EA6;\n",
              "    }\n",
              "\n",
              "    [theme=dark] .colab-df-convert {\n",
              "      background-color: #3B4455;\n",
              "      fill: #D2E3FC;\n",
              "    }\n",
              "\n",
              "    [theme=dark] .colab-df-convert:hover {\n",
              "      background-color: #434B5C;\n",
              "      box-shadow: 0px 1px 3px 1px rgba(0, 0, 0, 0.15);\n",
              "      filter: drop-shadow(0px 1px 2px rgba(0, 0, 0, 0.3));\n",
              "      fill: #FFFFFF;\n",
              "    }\n",
              "  </style>\n",
              "\n",
              "      <script>\n",
              "        const buttonEl =\n",
              "          document.querySelector('#df-b45065a2-1661-40e9-b5fc-9a9f99a23c24 button.colab-df-convert');\n",
              "        buttonEl.style.display =\n",
              "          google.colab.kernel.accessAllowed ? 'block' : 'none';\n",
              "\n",
              "        async function convertToInteractive(key) {\n",
              "          const element = document.querySelector('#df-b45065a2-1661-40e9-b5fc-9a9f99a23c24');\n",
              "          const dataTable =\n",
              "            await google.colab.kernel.invokeFunction('convertToInteractive',\n",
              "                                                     [key], {});\n",
              "          if (!dataTable) return;\n",
              "\n",
              "          const docLinkHtml = 'Like what you see? Visit the ' +\n",
              "            '<a target=\"_blank\" href=https://colab.research.google.com/notebooks/data_table.ipynb>data table notebook</a>'\n",
              "            + ' to learn more about interactive tables.';\n",
              "          element.innerHTML = '';\n",
              "          dataTable['output_type'] = 'display_data';\n",
              "          await google.colab.output.renderOutput(dataTable, element);\n",
              "          const docLink = document.createElement('div');\n",
              "          docLink.innerHTML = docLinkHtml;\n",
              "          element.appendChild(docLink);\n",
              "        }\n",
              "      </script>\n",
              "    </div>\n",
              "  </div>\n",
              "  "
            ],
            "text/plain": [
              "                                                 Tweet  ...                                      Preprocessing\n",
              "0    upah ditiadakan maklum pemerintah butuh duit b...  ...  upah tiada maklum perintah butuh duit banyak b...\n",
              "1    februari pertama kali kerja kantor berlokasi j...  ...  februari pertama kali kerja kantor lokasi jaka...\n",
              "2    ibukota negara baru didorong pemerataan ekonom...  ...  ibukota negara baru dorong perata ekonomi nasi...\n",
              "3    undang undang ibukota negara baru resmi disahk...  ...  undang undang ibukota negara baru resmi sah ta...\n",
              "4    ibukota negara baru demi transformasi pembangu...  ...  ibukota negara baru transformasi bangun buni p...\n",
              "..                                                 ...  ...                                                ...\n",
              "712    fess bagus kalo proyek ibukota baru mulai jalan  ...    fess bagus kalo proyek ibukota baru mulai jalan\n",
              "713  bawah boleh pake misal nkri bubar bang ibukota...  ...  bawah pake misal nkri bubar bang ibukota manta...\n",
              "714  loren alasan benar lari dari kenyataan alias k...  ...  loren alas benar lari nyata alias kalau maling...\n",
              "715  partai selingkuh ibukota urus dulu kader parta...  ...  partai selingkuh ibukota urus dulu kader parta...\n",
              "716  lagi gencar cari dana buat ibukota baru bedany...  ...       gencar cari dana buat ibukota baru beda sama\n",
              "\n",
              "[717 rows x 3 columns]"
            ]
          },
          "metadata": {},
          "execution_count": 2
        }
      ]
    },
    {
      "cell_type": "code",
      "source": [
        "data_bersih = data_bersih.astype({'Hasil' : 'category'})\n",
        "data_bersih = data_bersih.astype({'Preprocessing' : 'string'})\n",
        "data_bersih.dtypes"
      ],
      "metadata": {
        "colab": {
          "base_uri": "https://localhost:8080/"
        },
        "id": "LxlBYuOyNmhS",
        "outputId": "a9967f41-c4f0-43fb-f3c9-235ecb7d7a0b"
      },
      "execution_count": null,
      "outputs": [
        {
          "output_type": "execute_result",
          "data": {
            "text/plain": [
              "Tweet              object\n",
              "Hasil            category\n",
              "Preprocessing      string\n",
              "dtype: object"
            ]
          },
          "metadata": {},
          "execution_count": 3
        }
      ]
    },
    {
      "cell_type": "code",
      "source": [
        "#Mendefinisikan X dan y\n",
        "X = data_bersih['Preprocessing']\n",
        "y = data_bersih['Hasil']"
      ],
      "metadata": {
        "id": "_TOsqhVsNrs7"
      },
      "execution_count": null,
      "outputs": []
    },
    {
      "cell_type": "code",
      "source": [
        "#Split Dataset menggunakan perbandingan 80:20\n",
        "from sklearn.model_selection import train_test_split\n",
        "\n",
        "X_train, X_test, y_train, y_test = train_test_split(X, y, test_size=0.20, random_state=42, shuffle=True)\n",
        "X_train.shape, X_test.shape, y_train.shape,y_test.shape"
      ],
      "metadata": {
        "id": "gCh5jXQhMV6R",
        "colab": {
          "base_uri": "https://localhost:8080/"
        },
        "outputId": "621c2afc-d2e8-4e96-8ead-e8622dbb100f"
      },
      "execution_count": null,
      "outputs": [
        {
          "output_type": "execute_result",
          "data": {
            "text/plain": [
              "((573,), (144,), (573,), (144,))"
            ]
          },
          "metadata": {},
          "execution_count": 5
        }
      ]
    },
    {
      "cell_type": "code",
      "source": [
        "#Proses TF-IDF\n",
        "from sklearn.feature_extraction.text import TfidfVectorizer\n",
        "from sklearn.feature_extraction.text import CountVectorizer \n",
        "from sklearn.feature_extraction.text import TfidfTransformer\n",
        "\n",
        "tf_idf = TfidfVectorizer(max_features=5000)\n",
        "tf_idf.fit(X)\n",
        "X_tf_idf = tf_idf.transform(X)\n",
        "Train_X_tf_idf = tf_idf.transform(X_train)\n",
        "Test_X_tf_idf = tf_idf.transform(X_test)\n",
        "\n",
        "print(tf_idf.vocabulary_)"
      ],
      "metadata": {
        "id": "ogv2yHIzNxKS",
        "colab": {
          "base_uri": "https://localhost:8080/"
        },
        "outputId": "8e25e2ce-226f-4f44-a325-20aadd18da44"
      },
      "execution_count": null,
      "outputs": [
        {
          "output_type": "stream",
          "name": "stdout",
          "text": [
            "{'upah': 2283, 'tiada': 2191, 'maklum': 1235, 'perintah': 1661, 'butuh': 379, 'duit': 559, 'banyak': 212, 'buat': 348, 'bangun': 205, 'ibukota': 781, 'baru': 219, 'februari': 611, 'pertama': 1667, 'kali': 952, 'kerja': 1031, 'kantor': 971, 'lokasi': 1205, 'jakarta': 861, 'pindah': 1691, 'comfort': 440, 'zone': 2362, 'bandung': 194, 'nyata': 1519, 'beri': 270, 'peluang': 1638, 'sempat': 1952, 'kembang': 1014, 'knowledge': 1069, 'skill': 2016, 'experience': 600, 'bagai': 168, 'bidang': 295, 'negara': 1422, 'dorong': 552, 'perata': 1652, 'ekonomi': 575, 'nasional': 1415, 'nusantara': 1513, 'satu': 1900, 'indonesia': 814, 'undang': 2276, 'resmi': 1841, 'sah': 1871, 'tanda': 2120, 'mula': 1369, 'transformasi': 2222, 'buni': 371, 'pancasila': 1587, 'urgensi': 2287, 'solusi': 2031, 'baik': 179, 'atas': 150, 'soal': 2023, 'nkri': 1499, 'peran': 1649, 'gagal': 634, 'rakyat': 1805, 'sulit': 2071, 'cuma': 453, 'mudah': 1366, 'belanja': 249, 'stok': 2054, 'barang': 217, 'sirkuit': 2005, 'mandalika': 1258, 'cari': 400, 'makan': 1230, 'sendiri': 1957, 'jangan': 868, 'susah': 2091, 'urus': 2289, 'minyak': 1335, 'gede': 659, 'mimpi': 1327, 'punyao': 1781, 'malu': 1252, 'selalu': 1937, 'suka': 2068, 'pagi': 1572, 'hari': 740, 'jalan': 863, 'ramai': 1806, 'pejal': 1636, 'kaki': 947, 'sepeda': 1971, 'salam': 1878, 'sehat': 1925, 'semua': 1954, 'morningvibes': 1356, 'galaksi': 637, 'bima': 302, 'sakti': 1875, 'timbun': 2198, 'lama': 1144, 'tengik': 2165, 'dipake': 529, 'ayoo': 160, 'deeh': 487, 'sbanyak': 1906, 'kalo': 957, 'udeh': 2264, 'gitu': 686, 'citra': 432, 'lhaa': 1181, 'wong': 2344, 'lahan': 1134, 'dasar': 475, 'ruwetnesia': 1866, 'utang': 2298, 'numpuk': 1508, 'malah': 1244, 'halu': 726, 'bikin': 299, 'cocok': 438, 'sekarang': 1933, 'metaverse': 1317, 'bakal': 180, 'debat': 484, 'panjang': 1593, 'atau': 151, 'kontra': 1096, 'survey': 2089, 'punya': 1780, 'uang': 2257, 'gunung': 710, 'goreng': 701, 'mampu': 1255, 'kedelai': 997, 'mahal': 1224, 'dibilqng': 511, 'rebut': 1825, 'sama': 1882, 'babi': 164, 'china': 421, 'minta': 1333, 'periode': 1662, 'seperti': 1972, 'mardani': 1269, 'tuch': 2233, 'pimpin': 1690, 'ngebacot': 1454, 'melulu': 1297, 'ngurus': 1489, 'beres': 267, 'netizen': 1432, 'kaget': 944, 'laku': 1140, 'orang': 1561, 'inget': 826, 'dulu': 563, 'benjol': 262, 'gaban': 629, 'nabrak': 1394, 'tiang': 2192, 'listrik': 1200, 'ngosongin': 1483, 'lantai': 1157, 'inti': 837, 'kabupaten': 929, 'kaya': 987, 'udah': 2262, 'selow': 1944, 'mending': 1301, 'macul': 1221, 'syukur': 2098, 'kondisi': 1083, 'sedih': 1917, 'presiden': 1739, 'camping': 392, 'daerah': 457, 'kroni': 1110, 'paksa': 1579, 'jadi': 857, 'kagek': 943, 'pakde': 1576, 'nyari': 1517, 'dana': 465, 'insya': 835, 'allah': 60, 'jiaakkhh': 894, 'asik': 140, 'banget': 196, 'artis': 130, 'debut': 485, 'lagipula': 1132, 'rambut': 1807, 'gesa': 673, 'anak': 80, 'boyband': 333, 'kalau': 951, 'kata': 982, 'mulai': 1370, 'siap': 1985, 'gopood': 700, 'bubur': 350, 'tawan': 2138, 'kudu': 1119, 'sendok': 1958, 'namane': 1403, 'ndeso': 1421, 'ngerti': 1468, 'sen': 1955, 'biasa': 291, 'akhire': 44, 'pake': 1577, 'kertas': 1035, 'batagor': 221, 'siomay': 2002, 'sinar': 1999, 'priangan': 1742, 'gandaria': 641, 'utara': 2300, 'selatan': 1941, 'tum': 2240, 'forkabi': 622, 'tokoh': 2211, 'betawi': 281, 'paska': 1617, 'ikut': 801, 'poin': 1711, 'revisi': 1843, 'terus': 2182, 'bahas': 175, 'politik': 1715, 'langka': 1153, 'anggar': 92, 'masalah': 1274, 'yukk': 2355, 'cara': 399, 'tuju': 2237, 'kesana': 1037, 'penting': 1646, 'bagaimana': 169, 'tetap': 2184, 'hati': 746, 'rencana': 1835, 'kalimantan': 955, 'anggara': 93, 'bukan': 360, 'dapat': 467, 'hutang': 778, 'biar': 289, 'cepet': 409, 'selesai': 1942, 'mungkin': 1383, 'prospek': 1760, 'nanti': 1408, 'usung': 2296, 'konsep': 1088, 'rimba': 1850, 'nusa': 1512, 'mana': 1257, 'wilayah': 2332, 'kawasan': 986, 'hutan': 777, 'rehabilitasi': 1829, 'jokowi': 909, 'kawaljokowi': 984, 'pondok': 1720, 'pesantren': 1673, 'muhammadiyah': 1368, 'timur': 2200, 'calon': 390, 'republik': 1838, 'polri': 1718, 'anjing': 101, 'gonggong': 697, 'khafi': 1047, 'lalu': 1143, 'asong': 143, 'agama': 28, 'tetep': 2185, 'diri': 538, 'muncul': 1381, 'isi': 842, 'perempuan': 1657, 'bening': 261, 'kabar': 926, 'manula': 1263, 'butek': 378, 'macam': 1219, 'burung': 375, 'tahan': 2103, 'proyek': 1766, 'kereta': 1029, 'cepat': 408, 'tata': 2135, 'kota': 1101, 'bayar': 230, 'bancak': 190, 'korupsi': 1100, 'akhir': 43, 'kejar': 1002, 'peras': 1651, 'cirit': 431, 'aneh': 90, 'ngotot': 1484, 'buka': 359, 'mikir': 1319, 'jokowitherealdictator': 911, 'pisang': 1697, 'martabak': 1272, 'pakai': 1575, 'tangan': 2122, 'ormas': 1564, 'teroris': 2181, 'andesit': 89, 'tentu': 2167, 'bawa': 227, 'bukti': 361, 'vaksin': 2301, 'kartu': 978, 'bpjs': 334, 'kuliner': 1121, 'putar': 1789, 'cobain': 437, 'jamin': 866, 'nyesel': 1528, 'nambah': 1404, 'rasa': 1816, 'sangat': 1891, 'luar': 1209, 'sekali': 1931, 'justru': 924, 'untung': 2281, 'industri': 818, 'segala': 1921, 'jenis': 888, 'bahan': 173, 'bakar': 181, 'sedia': 1916, 'limpah': 1190, 'gaperlu': 649, 'batubara': 226, 'jawa': 877, 'batal': 222, 'idic': 792, 'desain': 502, 'keren': 1028, 'moga': 1348, 'kapan': 974, 'kunjung': 1123, 'inisiator': 829, 'petisi': 1680, 'tolak': 2212, 'change': 416, 'kelompok': 1007, 'kaji': 946, 'masuk': 1277, 'fenomena': 612, 'hijrah': 757, 'insentif': 831, 'bagus': 171, 'tapi': 2131, 'ngapain': 1447, 'urai': 2286, 'beban': 234, 'duduk': 558, 'kasih': 980, 'incentive': 808, 'lebih': 1168, 'maju': 1229, 'tingkat': 2205, 'sekitar': 1935, 'gagas': 635, 'zaman': 2358, 'bung': 369, 'karno': 977, 'realisasi': 1823, 'tempe': 2153, 'tahu': 2106, 'komoditas': 1081, 'macem': 1220, 'cabai': 384, 'roket': 1851, 'naik': 1396, 'harga': 739, 'tenggelam': 2164, 'euforia': 599, 'covid': 443, 'abai': 3, 'ngerasain': 1467, 'akte': 49, 'lahir': 1136, 'bekas': 244, 'notabene': 1503, 'belah': 247, 'perlu': 1664, 'gebrak': 658, 'meja': 1294, 'lurah': 1217, 'cetak': 414, 'kelas': 1006, 'engah': 589, 'fafifu': 602, 'wasweswos': 2328, 'dokumen': 546, 'kepenpudukannya': 1024, 'dikerjain': 521, 'calo': 389, 'pilih': 1687, 'tempat': 2152, 'ibukotanegara': 784, 'semangatnusantara': 1947, 'ndak': 1418, 'tambah': 2113, 'kempis': 1016, 'mumet': 1376, 'tenan': 2158, 'lupa': 1216, 'fastlab': 605, 'tendean': 2160, 'gmaps': 690, 'titik': 2207, 'bulan': 363, 'sini': 2001, 'catnobi': 402, 'wkwkkwkwk': 2339, 'mikirnya': 1321, 'gotong': 702, 'royong': 1853, 'pajak': 1574, 'ribu': 1848, 'jelas': 883, 'hasil': 745, 'kayak': 988, 'trans': 2220, 'sumatera': 2073, 'open': 1554, 'joki': 908, 'paper': 1602, 'essay': 597, 'topik': 2217, 'maks': 1237, 'halaman': 724, 'deadline': 481, 'rabu': 1795, 'kisruh': 1063, 'nutupin': 1514, 'kasus': 981, 'berita': 271, 'kontol': 1095, 'perkara': 1663, 'plastik': 1700, 'doang': 544, 'marah': 1268, 'brapa': 336, 'pohon': 1710, 'cukur': 451, 'mara': 1267, 'sana': 1888, 'maksud': 1243, 'arah': 120, 'pusat': 1787, 'pangan': 1591, 'dunia': 566, 'buang': 347, 'suruh': 2088, 'iur': 850, 'kiblat': 1052, 'wakanda': 2315, 'uncover': 2275, 'benar': 254, 'tahun': 2107, 'segitu': 1924, 'abis': 6, 'apah': 114, 'ngga': 1474, 'becus': 238, 'jual': 915, 'program': 1753, 'tugas': 2234, 'sejahtera': 1926, 'sengsara': 1963, 'besar': 275, 'kawan': 985, 'waspada': 2327, 'opini': 1555, 'liar': 1182, 'yakin': 2349, 'gerak': 671, 'prokes': 1755, 'fakta': 603, 'papa': 1599, 'gepeto': 669, 'gubernur': 707, 'jenderal': 887, 'entah': 591, 'haji': 723, 'bisnis': 305, 'imun': 807, 'kuat': 1117, 'becuzzz': 239, 'migor': 1318, 'timmur': 2199, 'provokasi': 1764, 'sohibuliman': 2028, 'wajib': 2314, 'perhati': 1658, 'warren': 2323, 'buffett': 357, 'akibat': 47, 'mayoritas': 1285, 'dijawa': 520, 'joaaahamnidaaaaa': 904, 'sorry': 2034, 'bales': 186, 'makasihhh': 1233, 'amin': 76, 'gaya': 656, 'langkah': 1154, 'apa': 113, 'laki': 1139, 'sentrisjangan': 1968, 'sentris': 1967, 'alas': 55, 'najam': 1398, 'paser': 1613, 'langit': 1152, 'smart': 2021, 'city': 433, 'wedus': 2329, 'minus': 1334, 'budgetnya': 354, 'dikumpulin': 526, 'ambisi': 69, 'utama': 2297, 'ambruk': 73, 'gimana': 682, 'ngurusin': 1490, 'blegedes': 310, 'joke': 907, 'atur': 153, 'sedang': 1915, 'stres': 2060, 'mikirin': 1320, 'jack': 856, 'asriie': 146, 'perdana': 1656, 'azza': 162, 'loren': 1208, 'hoax': 767, 'lampau': 1145, 'batas': 223, 'gundul': 709, 'habitat': 717, 'turun': 2251, 'kampung': 963, 'raya': 1819, 'simulasi': 1998, 'rancang': 1811, 'bentuk': 264, 'video': 2303, 'eluh': 579, 'ngehoax': 1459, 'hidup': 755, 'percis': 1654, 'sorga': 2033, 'doa': 543, 'sulawesi': 2070, 'pulau': 1775, 'kurang': 1124, 'alokasi': 63, 'saat': 1867, 'sempit': 1953, 'subsidi': 2065, 'pikir': 1683, 'emang': 581, 'dijanjiin': 519, 'reklamasi': 1832, 'amsyong': 79, 'dekat': 490, 'cuan': 446, 'bijak': 297, 'kemah': 1011, 'kangmas': 969, 'budi': 355, 'daya': 479, 'tani': 2125, 'kedele': 998, 'manfaat': 1259, 'asa': 131, 'ngimpor': 1479, 'rusak': 1862, 'alam': 54, 'hijau': 756, 'kebun': 995, 'sawit': 1903, 'percuma': 1655, 'hantu': 732, 'merdeka': 1314, 'kait': 945, 'takut': 2110, 'tekor': 2145, 'sakit': 1874, 'nunanggung': 1509, 'apakh': 115, 'bnyk': 316, 'nolak': 1500, 'akhirny': 45, 'menmbah': 1307, 'kek': 1003, 'stress': 2061, 'proses': 1759, 'belon': 252, 'padahal': 1570, 'kantong': 970, 'petinggi': 1679, 'negeri': 1424, 'serah': 1975, 'sumbang': 2075, 'pernah': 1665, 'nyumbang': 1536, 'gausah': 654, 'biarian': 290, 'tengelam': 2162, 'karna': 976, 'perut': 1671, 'bumi': 365, 'tumpuk': 2243, 'waras': 2320, 'bohong': 322, 'agenda': 29, 'sebut': 1913, 'layak': 1164, 'tinggal': 2203, 'polusi': 1719, 'udara': 2263, 'tanyaa': 2129, 'ajak': 39, 'dazai': 480, 'levi': 1178, 'keluarga': 1009, 'moriarty': 1355, 'killua': 1056, 'hisoka': 763, 'sobat': 2024, 'anime': 97, 'juta': 925, 'miskin': 1338, 'mercu': 1312, 'suar': 2063, 'kesitu': 1038, 'terlalu': 2175, 'jahu': 859, 'feasible': 610, 'andal': 88, 'situ': 2012, 'akal': 42, 'ngembat': 1463, 'apbn': 117, 'ketua': 1046, 'puan': 1768, 'maharani': 1225, 'dukung': 561, 'puanmaharani': 1769, 'pdiperjuangan': 1631, 'gesuriid': 674, 'daftar': 458, 'segera': 1923, 'modal': 1346, 'ruwet': 1865, 'main': 1228, 'nekad': 1427, 'just': 923, 'opinion': 1556, 'bgst': 284, 'nama': 1402, 'thailand': 2186, 'wkwk': 2338, 'nyebutnya': 1522, 'bund': 367, 'wkwkwk': 2341, 'mbaksri': 1286, 'peryataan': 1672, 'ken': 1019, 'banjar': 206, 'kadrun': 937, 'kutik': 1126, 'sadar': 1870, 'kejam': 1000, 'dewasa': 506, 'berapa': 265, 'tampar': 2117, 'ngibul': 1477, 'janji': 869, 'kagak': 942, 'tinggi': 2204, 'lulus': 1212, 'telor': 2148, 'sampe': 1886, 'lonjak': 1207, 'kandang': 966, 'ayam': 159, 'awal': 157, 'info': 821, 'residen': 1840, 'akhr': 46, 'hayat': 748, 'jabat': 854, 'ngutang': 1491, 'masa': 1273, 'ambil': 68, 'lewat': 1179, 'begini': 242, 'ehhehehe': 571, 'ngetik': 1473, 'jaman': 864, 'borobudur': 330, 'sampean': 1887, 'hapus': 737, 'ganti': 646, 'waktu': 2316, 'dituker': 541, 'target': 2133, 'tumbuh': 2241, 'pastiin': 1620, 'dapet': 468, 'balik': 187, 'rantau': 1815, 'salju': 1880, 'bern': 272, 'meski': 1315, 'tengah': 2161, 'haru': 741, 'tiba': 2194, 'swiss': 2094, 'langsung': 1155, 'kafe': 939, 'kecil': 996, 'hangat': 730, 'tubuh': 2232, 'gencar': 665, 'inflasi': 820, 'sembako': 1950, 'budget': 353, 'infrastrukturrimaju': 824, 'infrastruktur': 823, 'nasionalisme': 1416, 'nyoman': 1534, 'nuarta': 1507, 'maksimal': 1242, 'kisah': 1062, 'siapa': 1986, 'lafal': 1129, 'nyontek': 1535, 'didu': 514, 'skck': 2015, 'mantan': 1261, 'napi': 1411, 'komisaris': 1078, 'bumn': 366, 'denger': 496, 'kandidat': 967, 'kada': 932, 'bawah': 228, 'umur': 2274, 'celurit': 406, 'ngeganggu': 1458, 'malem': 1249, 'lepas': 1173, 'ketangkep': 1040, 'sosial': 2035, 'rumah': 1858, 'stock': 2053, 'pontang': 1722, 'panting': 1598, 'zimbabwe': 2361, 'apbd': 116, 'surabaya': 2084, 'bagi': 170, 'tri': 2226, 'instansi': 834, 'istana': 844, 'sedot': 1919, 'mesti': 1316, 'cukup': 450, 'biayain': 293, 'sayang': 1904, 'pengaruh': 1641, 'jabodetabek': 855, 'jabar': 853, 'lengkap': 1172, 'pilu': 1689, 'pertiwi': 1670, 'selingkuh': 1943, 'paling': 1583, 'hadir': 719, 'kini': 1057, 'judi': 917, 'cuci': 447, 'patpatgulipatnya': 1622, 'rampung': 1810, 'kampanye': 962, 'ubah': 2259, 'fokus': 620, 'tuntas': 2249, 'gramed': 704, 'kuliah': 1120, 'senjang': 1965, 'masyarakat': 1278, 'beneran': 257, 'wkkwk': 2337, 'super': 2082, 'bijing': 298, 'catat': 401, 'prediksi': 1737, 'bang': 195, 'patung': 1624, 'iden': 789, 'sang': 1890, 'maestro': 1222, 'tanah': 2118, 'rame': 1808, 'lain': 1137, 'runyam': 1859, 'umum': 2273, 'jauh': 875, 'ahok': 34, 'anas': 83, 'bambang': 189, 'tumiyono': 2242, 'empatt': 585, 'ridwan': 1849, 'kamil': 961, 'pede': 1634, 'nderekpakjokowi': 1420, 'memang': 1298, 'bicara': 294, 'omnibuslaw': 1552, 'ketemu': 1041, 'bocor': 317, 'trus': 2230, 'skrg': 2018, 'mau': 1282, 'dibuyback': 512, 'ruah': 1854, 'ngantri': 1446, 'gomart': 696, 'ngab': 1435, 'antar': 104, 'izin': 852, 'tweet': 2256, 'abadi': 2, 'belagu': 246, 'stabilitas': 2045, 'distribusi': 540, 'back': 166, 'triliun': 2227, 'salur': 1881, 'murah': 1384, 'antri': 111, 'nimbun': 1497, 'puas': 1770, 'duluan': 564, 'suudzon': 2093, 'gatau': 653, 'seluruh': 1945, 'wkwkwkwk': 2342, 'sebenernya': 1910, 'gapapa': 648, 'sihh': 1992, 'cuman': 454, 'pribadi': 1743, 'sudi': 2066, 'ini': 828, 'ajar': 40, 'canderra': 396, 'surplus': 2087, 'saking': 1873, 'hebat': 749, 'rekam': 1831, 'sejarah': 1928, 'buzzer': 382, 'ngaku': 1441, 'ucap': 2260, 'banjir': 208, 'ancang': 85, 'instan': 833, 'ehhhhhh': 572, 'asburd': 136, 'negri': 1425, 'omong': 1553, 'bangkok': 201, 'krung': 1112, 'thep': 2188, 'maha': 1223, 'nakhon': 1400, 'hafalin': 720, 'huruf': 776, 'lirik': 1197, 'lagu': 1133, 'asanee': 135, 'wasan': 2326, 'padat': 1571, 'rans': 1814, 'deket': 491, 'samarinda': 1883, 'bosamarinda': 332, 'oktober': 1547, 'cengli': 407, 'ngantor': 1445, 'sosmed': 2036, 'demokrat': 495, 'pantau': 1596, 'bahwa': 178, 'sikap': 1993, 'ingin': 827, 'kiri': 1060, 'kanan': 965, 'pidato': 1681, 'diksi': 525, 'drone': 556, 'decacorn': 486, 'omicron': 1550, 'pantes': 1597, 'pdam': 1626, 'jasa': 872, 'tokai': 2209, 'diputerin': 536, 'insyaf': 836, 'dong': 549, 'tanya': 2128, 'jawab': 878, 'jujur': 919, 'karene': 975, 'bise': 304, 'hanya': 733, 'sejak': 1927, 'rezim': 1846, 'kuasa': 1116, 'simpan': 1997, 'ngrapiin': 1485, 'langgeng': 1151, 'keluasaan': 1010, 'drmana': 555, 'ngendap': 1465, 'jiwasraya': 901, 'asabri': 132, 'tabung': 2099, 'ngendon': 1466, 'geblek': 657, 'konten': 1093, 'media': 1290, 'abal': 4, 'gabenerpun': 631, 'invest': 839, 'autopilot': 156, 'ratus': 1817, 'wajar': 2313, 'ngelola': 1462, 'nyampe': 1516, 'jingkrak': 899, 'bodoh': 320, 'kmrn': 1067, 'biden': 296, 'sndr': 2022, 'gedung': 660, 'putih': 1791, 'putin': 1792, 'putus': 1793, 'mnyrg': 1343, 'ukraina': 2268, 'pasu': 1621, 'rusia': 1863, 'mnyrang': 1342, 'kiev': 1053, 'bbrp': 232, 'minggu': 1329, 'kemarin': 1013, 'trjd': 2229, 'ledak': 1169, 'kalian': 953, 'bunda': 368, 'jeruk': 891, 'medan': 1289, 'milihnya': 1324, 'ngak': 1438, 'model': 1347, 'korban': 1098, 'kebiadapan': 993, 'bapakperusakalam': 215, 'cinta': 429, 'menandatangani': 1299, 'nomor': 1501, 'adab': 15, 'gilak': 679, 'nyngka': 1532, 'betul': 283, 'cerita': 411, 'ganesha': 642, 'revitalisasi': 1844, 'taman': 2112, 'tanam': 2119, 'paru': 1609, 'makin': 1234, 'asri': 145, 'nyaman': 1515, 'asli': 141, 'tunggu': 2246, 'demo': 494, 'bacot': 167, 'ancur': 86, 'tolol': 2214, 'hendak': 752, 'tebak': 2140, 'kepala': 1023, 'tempoindonesiana': 2155, 'salah': 1877, 'usia': 2294, 'tepat': 2169, 'tindak': 2201, 'pulih': 1776, 'pasca': 1612, 'pandemi': 1589, 'menteri': 1310, 'becanda': 237, 'goblok': 693, 'investasi': 840, 'bpjstk': 335, 'surat': 2086, 'biaya': 292, 'teror': 2180, 'bilang': 301, 'kerumun': 1036, 'duli': 562, 'teriak': 2171, 'amburadul': 74, 'gin': 683, 'isyu': 847, 'asyik': 148, 'kunci': 1122, 'harus': 742, 'jernih': 890, 'ego': 570, 'puruk': 1785, 'lapar': 1158, 'senang': 1956, 'guwe': 712, 'sumpahin': 2078, 'ngambil': 1442, 'azab': 161, 'nyasar': 1518, 'pencil': 1640, 'pesawat': 1675, 'mundur': 1382, 'tolakuuikn': 2213, 'absurd': 7, 'rayy': 1820, 'dinamain': 527, 'kebayoran': 992, 'york': 2353, 'zealand': 2359, 'anjay': 98, 'ingat': 825, 'summarecon': 2077, 'serpong': 1977, 'motor': 1360, 'lihat': 1189, 'balap': 183, 'sepi': 1973, 'skarang': 2014, 'sumarecon': 2072, 'pinggir': 1693, 'berat': 266, 'ambisius': 71, 'buruh': 373, 'makmur': 1236, 'sanggup': 1894, 'mambuat': 1254, 'buruhindonesiahebat': 374, 'gara': 650, 'danaaa': 466, 'pala': 1581, 'bapak': 214, 'pitak': 1698, 'sattt': 1899, 'bangsat': 204, 'hore': 768, 'yuuuukk': 2357, 'sok': 2029, 'becuzzzz': 240, 'search': 1909, 'tuit': 2236, 'tahana': 2104, 'beda': 241, 'user': 2293, 'seragam': 1974, 'post': 1726, 'kacau': 931, 'balau': 185, 'syiah': 2096, 'liberal': 1184, 'kaum': 983, 'munafikin': 1379, 'garong': 651, 'beking': 245, 'lintas': 1195, 'sumatra': 2074, 'lampung': 1147, 'mollucas': 1351, 'jebol': 880, 'knil': 1068, 'fungsi': 628, 'enforcer': 588, 'buyback': 381, 'indosat': 817, 'nyicil': 1530, 'bangkit': 200, 'rupa': 1860, 'siswa': 2009, 'kriteria': 1107, 'dampak': 464, 'puisi': 1772, 'identitas': 790, 'bangsa': 203, 'canberra': 395, 'raffi': 1796, 'luas': 1210, 'visi': 2306, 'payung': 1625, 'hukum': 774, 'sarana': 1896, 'regulasi': 1828, 'umkm': 2271, 'taraf': 2132, 'bantu': 211, 'produk': 1749, 'pasar': 1611, 'aman': 66, 'bkin': 307, 'stlh': 2052, 'pleciden': 1701, 'palsu': 1584, 'ngomong': 1481, 'kadin': 936, 'bestie': 279, 'storeless': 2056, 'chinesse': 422, 'temu': 2157, 'toko': 2210, 'glodok': 688, 'ntar': 1505, 'konter': 1094, 'pulsa': 1777, 'habis': 716, 'beli': 250, 'real': 1822, 'sejati': 1929, 'pancasilais': 1588, 'sungguh': 2080, 'dar': 470, 'omdo': 1549, 'provinsi': 1762, 'antero': 107, 'parte': 1608, 'nyinyir': 1531, 'gembong': 664, 'prasetyo': 1733, 'akun': 52, 'adminnya': 24, 'silalahi': 1995, 'lagak': 1130, 'ketok': 1045, 'palu': 1585, 'bodo': 319, 'tema': 2149, 'rejim': 1830, 'oposisi': 1557, 'diskusi': 539, 'polemik': 1714, 'politis': 1716, 'nara': 1412, 'sumber': 2076, 'arsitek': 125, 'ngomongin': 1482, 'hitler': 764, 'perang': 1650, 'achmadi': 10, 'mubazir': 1364, 'mangkrak': 1260, 'palembang': 1582, 'gading': 633, 'band': 191, 'soetta': 2027, 'kuala': 1114, 'tanjung': 2126, 'batu': 225, 'kijing': 1054, 'kertajati': 1034, 'sudirman': 2067, 'jogya': 906, 'borneo': 328, 'cibubur': 424, 'food': 621, 'estate': 598, 'bendung': 255, 'bener': 256, 'sering': 1976, 'mati': 1281, 'stabil': 2044, 'kaca': 930, 'arena': 122, 'domba': 547, 'pilkada': 1688, 'pecah': 1633, 'bentar': 263, 'otorita': 1568, 'sabar': 1868, 'yaaa': 2346, 'blum': 314, 'maksaain': 1239, 'pmaksaan': 1704, 'jelang': 882, 'pensiun': 1645, 'mutasi': 1390, 'ketentraman': 1042, 'tenang': 2159, 'uanga': 2258, 'segar': 1922, 'rampok': 1809, 'ngawur': 1453, 'potong': 1730, 'gaji': 636, 'pokok': 1712, 'obyektif': 1540, 'balas': 184, 'rela': 1834, 'penjara': 1643, 'pertamina': 1669, 'bhkan': 286, 'dipikirin': 531, 'pikirin': 1685, 'dapur': 469, 'jarang': 871, 'ngebul': 1457, 'emeng': 583, 'jilat': 898, 'pantat': 1595, 'gabener': 630, 'nganggur': 1444, 'licin': 1186, 'wkwkw': 2340, 'bualanny': 346, 'elon': 578, 'musklh': 1388, 'konon': 1086, 'makanya': 1232, 'otak': 1566, 'borong': 331, 'cicil': 425, 'prihal': 1745, 'taeland': 2102, 'derita': 501, 'tambang': 2115, 'ekokuntadhi': 574, 'ganknya': 644, 'partai': 1607, 'asyikkkk': 149, 'makane': 1231, 'imbas': 804, 'astjim': 147, 'lumayan': 1213, 'sita': 2010, 'tanggung': 2124, 'nanggung': 1407, 'walopun': 2318, 'sedikit': 1918, 'orasi': 1562, 'wujud': 2345, 'nikah': 1493, 'brazil': 339, 'jerman': 889, 'pakistan': 1578, 'myanmar': 1392, 'malaysia': 1248, 'kaltim': 959, 'total': 2218, 'preside': 1738, 'gantipresiden': 647, 'tvone': 2255, 'nakhoda': 1399, 'menjad': 1304, 'idha': 791, 'apkh': 118, 'brarti': 337, 'pmerintah': 1706, 'paky': 1580, 'krna': 1109, 'pmrintah': 1707, 'cekak': 404, 'mnunda': 1341, 'pmbyaran': 1705, 'mendahulukn': 1300, 'proy': 1765, 'bngun': 315, 'jlan': 902, 'brkuasa': 341, 'penuh': 1648, 'rugi': 1856, 'coba': 436, 'liat': 1183, 'property': 1758, 'asekkkk': 137, 'males': 1250, 'wadawwww': 2310, 'bahagia': 172, 'gratis': 705, 'antigen': 109, 'produksi': 1750, 'massal': 1276, 'vitamin': 2307, 'alih': 59, 'cabut': 386, 'omnibus': 1551, 'cair': 387, 'haya': 747, 'hentikanjokowiotoriter': 753, 'nyerap': 1525, 'treak': 2223, 'warga': 2321, 'kesohor': 1039, 'udik': 2265, 'pitung': 1699, 'sengal': 1960, 'tidurin': 2195, 'pongah': 1721, 'keringat': 1030, 'hmmm': 765, 'bila': 300, 'arti': 128, 'double': 553, 'hadeuh': 718, 'cipta': 430, 'kepentinganya': 1025, 'ganggu': 643, 'ktnya': 1113, 'ngebet': 1456, 'ngatasi': 1450, 'hujung': 773, 'orba': 1563, 'hampir': 728, 'repelita': 1837, 'landas': 1150, 'eeeh': 569, 'amblas': 72, 'gampang': 640, 'jateng': 873, 'pindahin': 1692, 'papua': 1603, 'usah': 2291, 'mulut': 1373, 'taik': 2108, 'sahkan': 1872, 'indonesiamaju': 816, 'jokowidodo': 910, 'gegayaan': 662, 'blangsak': 309, 'bengkak': 258, 'kcic': 990, 'daaaaah': 456, 'bjuran': 306, 'banjarbaru': 207, 'kalsel': 958, 'bayi': 231, 'seeker': 1920, 'dipindahin': 532, 'jonggol': 913, 'nyokap': 1533, 'kira': 1058, 'boongan': 326, 'anjer': 100, 'pasoepati': 1618, 'solo': 2030, 'profinsi': 1752, 'status': 2050, 'seru': 1980, 'jumat': 920, 'pukul': 1773, 'link': 1194, 'zoom': 2363, 'meeting': 1292, 'passcode': 1619, 'moyac': 1362, 'lancar': 1148, 'bersihin': 274, 'kmren': 1066, 'kerjain': 1032, 'himne': 760, 'emgnya': 584, 'ngebangun': 1455, 'darrah': 473, 'hindar': 762, 'lobang': 1202, 'tambal': 2114, 'ada': 13, 'demgan': 492, 'jarak': 870, 'ndakik': 1419, 'itikad': 848, 'iknproyekoligarki': 799, 'yummy': 2356, 'terima': 2172, 'abang': 5, 'gojek': 694, 'anter': 106, 'walaupun': 2317, 'hujan': 772, 'papaeko': 1600, 'surveyshunter': 2090, 'scbd': 1908, 'jaksel': 862, 'demie': 493, 'gila': 678, 'nero': 1430, 'ajah': 37, 'sukses': 2069, 'banggain': 198, 'cieee': 426, 'ciiiee': 427, 'harap': 738, 'netral': 1433, 'agam': 27, 'minorites': 1332, 'definisi': 489, 'ribet': 1847, 'rawan': 1818, 'ngrusak': 1486, 'lingkung': 1192, 'kalik': 954, 'guru': 711, 'murid': 1385, 'anies': 96, 'mimpin': 1328, 'afiat': 25, 'aamiiin': 0, 'mars': 1271, 'angkat': 95, 'selamat': 1939, 'datang': 478, 'kekalimantan': 1004, 'sektor': 1936, 'didik': 513, 'pesat': 1674, 'pilar': 1686, 'awas': 158, 'aspal': 144, 'cium': 434, 'aroma': 124, 'potensi': 1728, 'aseng': 138, 'impor': 806, 'kebijkan': 994, 'jelek': 884, 'kudeta': 1118, 'bangkrut': 202, 'nggaya': 1475, 'blom': 313, 'dengkul': 497, 'brazilia': 340, 'beberapa': 236, 'taiklah': 2109, 'nyecar': 1523, 'acting': 11, 'tanyain': 2130, 'lakuin': 1141, 'skrng': 2019, 'kreta': 1104, 'klen': 1065, 'diam': 509, 'trilyun': 2228, 'dikit': 523, 'jiaaaaah': 893, 'bodohin': 321, 'umat': 2270, 'ludes': 1211, 'doger': 545, 'bansos': 210, 'yaqut': 2350, 'nabire': 1393, 'nyusahin': 1537, 'asmara': 142, 'prestasianies': 1740, 'ngeruk': 1470, 'sungai': 2079, 'lapor': 1160, 'huahaha': 770, 'urusin': 2290, 'formula': 623, 'bully': 364, 'pdhl': 1628, 'negriku': 1426, 'keras': 1026, 'tiap': 2193, 'nyempil': 1524, 'diakalin': 507, 'jumpa': 921, 'sydney': 2095, 'australia': 154, 'letak': 1176, 'strategis': 2058, 'cheer': 418, 'leave': 1166, 'lumut': 1214, 'kaktus': 949, 'siram': 2004, 'menompang': 1308, 'monas': 1353, 'spesies': 2040, 'kaktue': 948, 'upa': 2282, 'thokolan': 2190, 'galau': 638, 'mapan': 1265, 'finansial': 615, 'support': 2083, 'meni': 1302, 'sesuai': 1981, 'goals': 692, 'ortu': 1565, 'paradoks': 1604, 'musk': 1387, 'space': 2037, 'tryt': 2231, 'ekstrem': 576, 'wapresnya': 2319, 'jibaku': 897, 'rang': 1813, 'street': 2059, 'punk': 1779, 'shot': 1983, 'idola': 794, 'canggung': 397, 'pertamakali': 1668, 'foto': 625, 'depan': 499, 'tegur': 2142, 'sapa': 1895, 'cheers': 419, 'nafsu': 1395, 'puter': 1790, 'gokil': 695, 'nilai': 1495, 'ngeliatin': 1461, 'housing': 769, 'precarity': 1735, 'generasi': 666, 'pdhal': 1627, 'anggota': 94, 'ajaib': 38, 'tantang': 2127, 'kdpp': 991, 'bahkan': 177, 'manusia': 1264, 'penat': 1639, 'pulang': 1774, 'hilang': 759, 'larut': 1162, 'buah': 345, 'tawa': 2137, 'senyum': 1969, 'bongkarkartelminyakgoreng': 325, 'ghooib': 676, 'juni': 922, 'standard': 2046, 'hancur': 729, 'move': 1361, 'pusing': 1788, 'tadi': 2100, 'nyerbu': 1526, 'tarik': 2134, 'sepakat': 1970, 'benahin': 253, 'besok': 277, 'theater': 2187, 'ibukotabaruindo': 783, 'trend': 2225, 'ngendalikan': 1464, 'baca': 165, 'lunas': 1215, 'klaim': 1064, 'layan': 1165, 'jangam': 867, 'tunda': 2244, 'laju': 1138, 'epaperkoransindo': 594, 'goodjournalism': 698, 'sister': 2008, 'nakon': 1401, 'dahulu': 460, 'jambu': 865, 'kocak': 1071, 'weellahhhh': 2330, 'upaya': 2284, 'semangat': 1946, 'sabtu': 1869, 'ngobrol': 1480, 'arsitektur': 126, 'sampah': 1885, 'huni': 775, 'regional': 1827, 'asia': 139, 'pasifik': 1615, 'sibuk': 1987, 'beton': 282, 'besi': 276, 'bom': 324, 'milu': 1326, 'wahana': 2311, 'bianglala': 288, 'puncak': 1778, 'quiz': 1794, 'sebutin': 1914, 'pronunciation': 1756, 'mogok': 1349, 'turut': 2252, 'sipil': 2003, 'konstruksi': 1092, 'otomatis': 1567, 'ibukotabaru': 782, 'ibukotanusantara': 785, 'indonesiajuara': 815, 'jaga': 858, 'dibeliin': 510, 'sista': 2006, 'hahaha': 721, 'parlemen': 1606, 'gigi': 677, 'ente': 593, 'diketawain': 522, 'slurrrs': 2020, 'tunjang': 2247, 'ngertiin': 1469, 'random': 1812, 'talk': 2111, 'deeptalk': 488, 'teknik': 2144, 'tele': 2146, 'biang': 287, 'kerok': 1033, 'fauziyah': 608, 'sari': 1897, 'ideal': 788, 'nanya': 1409, 'dongo': 550, 'bisa': 303, 'ngesahin': 1471, 'gemblung': 663, 'kabeh': 927, 'gengsi': 668, 'tiket': 2196, 'publikasi': 1771, 'lindung': 1191, 'tuhan': 2235, 'hektare': 751, 'nanam': 1406, 'dagang': 459, 'culas': 452, 'mumpung': 1377, 'asalkn': 134, 'diutamakn': 542, 'digolangkeun': 517, 'kanggo': 968, 'damel': 463, 'saurna': 1902, 'milih': 1323, 'banding': 193, 'ancam': 84, 'ogah': 1543, 'belok': 251, 'dasi': 476, 'kendara': 1021, 'jendela': 886, 'scan': 1907, 'code': 439, 'lebar': 1167, 'gmna': 691, 'sklihh': 2017, 'bangga': 197, 'nyesal': 1527, 'nurut': 1511, 'ngapalin': 1448, 'kemudian': 1018, 'lgsg': 1180, 'ibukotanya': 786, 'rajin': 1801, 'spot': 2041, 'area': 121, 'malas': 1247, 'ujung': 2267, 'jogging': 905, 'track': 2219, 'kompleks': 1082, 'erzhan': 595, 'dijadiin': 518, 'buku': 362, 'maksa': 1238, 'dominasi': 548, 'hankamrata': 731, 'topang': 2216, 'sangga': 1892, 'bodetabek': 318, 'infasi': 819, 'darat': 471, 'antisipasi': 110, 'analisa': 82, 'siluman': 1996, 'difersifikasi': 516, 'apresiasi': 119, 'kirim': 1061, 'pihak': 1682, 'songsong': 2032, 'alusista': 64, 'kritik': 1108, 'dinyinyirin': 528, 'yahhhh': 2347, 'fadh': 601, 'brasil': 338, 'setan': 1982, 'naikin': 1397, 'kriminalisasi': 1105, 'ulama': 2269, 'wadas': 2309, 'tempo': 2154, 'singkat': 2000, 'kabinet': 928, 'ngikut': 1478, 'jiancoooookkkk': 895, 'darj': 472, 'pupr': 1782, 'pdipbiangkerokperusak': 1630, 'adhidompu': 20, 'iyah': 851, 'patters': 1623, 'pingin': 1694, 'kena': 1020, 'malaria': 1246, 'gegara': 661, 'mobil': 1344, 'yeahhh': 2351, 'mulus': 1372, 'juang': 916, 'pdip': 1629, 'damai': 462, 'bebas': 235, 'prediden': 1736, 'spanyol': 2039, 'warna': 2322, 'ginian': 684, 'belakang': 248, 'pasang': 1610, 'poster': 1727, 'auto': 155, 'kafir': 940, 'entar': 592, 'kadrunfree': 938, 'mohon': 1350, 'baku': 182, 'balikpapan': 188, 'krisis': 1106, 'bersih': 273, 'struktur': 2062, 'lapis': 1159, 'lempung': 1171, 'tebal': 2141, 'gera': 670, 'signifikan': 1991, 'kolam': 1074, 'neng': 1429, 'batin': 224, 'suara': 2064, 'alhamdulillah': 57, 'reaksi': 1821, 'saudara': 1901, 'komisi': 1079, 'purr': 1784, 'semen': 1951, 'tktnya': 2208, 'prmnth': 1748, 'adalagi': 16, 'amnesty': 77, 'penjuru': 1644, 'tekan': 2143, 'brooooo': 344, 'siksa': 1994, 'pikiranpemerintah': 1684, 'nyusul': 1538, 'acu': 12, 'prinsip': 1747, 'momen': 1352, 'florist': 618, 'perihal': 1660, 'muda': 1365, 'bunga': 370, 'addie': 18, 'konser': 1089, 'youtube': 2354, 'energi': 587, 'gantariuntukganjar': 645, 'hapalan': 735, 'hapal': 734, 'plus': 1703, 'mobilisasi': 1345, 'mutlak': 1391, 'peta': 1678, 'rupabumi': 1861, 'kuta': 1125, 'tau': 2136, 'sobatgeo': 2025, 'skala': 2013, 'cakup': 388, 'lembar': 1170, 'data': 477, 'hmmmm': 766, 'ahhhhh': 33, 'antibiotik': 108, 'enak': 586, 'koma': 1075, 'idolan': 795, 'maupun': 1283, 'politus': 1717, 'timbang': 2197, 'antara': 105, 'gambar': 639, 'miniatur': 1330, 'contoh': 441, 'psbb': 1767, 'ppkm': 1732, 'level': 1177, 'pinjam': 1695, 'logika': 1204, 'flashback': 616, 'jeketiiii': 881, 'adenya': 19, 'deobo': 498, 'update': 2285, 'multifndm': 1371, 'mahh': 1226, 'ampe': 78, 'duluj': 565, 'ngestalk': 1472, 'idol': 793, 'ngarep': 1449, 'investor': 841, 'raksasa': 1803, 'babat': 163, 'narasi': 1413, 'halusinasi': 727, 'download': 554, 'buzzerp': 383, 'serta': 1978, 'sidang': 1989, 'munarman': 1380, 'habib': 715, 'bahar': 174, 'mulyadi': 1374, 'focus': 619, 'kedzaliman': 999, 'merahitupki': 1311, 'dipindahya': 533, 'kalimat': 956, 'khusus': 1051, 'satria': 1898, 'acara': 8, 'kemari': 1012, 'obrol': 1539, 'favorit': 609, 'ntukan': 1506, 'pnjmn': 1708, 'mnggu': 1340, 'susul': 2092, 'panengah': 1590, 'chole': 423, 'revolusi': 1845, 'mental': 1309, 'character': 417, 'building': 358, 'plis': 1702, 'inpes': 830, 'kantri': 972, 'saynotopdip': 1905, 'persis': 1666, 'design': 504, 'cpns': 444, 'bareng': 218, 'guzel': 714, 'maaf': 1218, 'dikomen': 524, 'berfikir': 268, 'positif': 1725, 'statement': 2049, 'negative': 1423, 'keluar': 1008, 'kenyang': 1022, 'nikmat': 1494, 'tunjuk': 2248, 'indah': 810, 'powerpoint': 1731, 'mosok': 1357, 'free': 626, 'transfer': 2221, 'jiannn': 896, 'minimal': 1331, 'materai': 1279, 'lahh': 1135, 'ketimbang': 1044, 'tukang': 2238, 'aksi': 48, 'lanjut': 1156, 'sengaja': 1959, 'parah': 1605, 'mahu': 1227, 'tindas': 2202, 'jajah': 860, 'meikarta': 1293, 'tuuh': 2254, 'retno': 1842, 'agustina': 31, 'ekaputri': 573, 'rektor': 1833, 'universitas': 2279, 'bengkulu': 259, 'bengkuluinfo': 260, 'unib': 2278, 'ngathak': 1452, 'gawe': 655, 'ibukot': 780, 'istighfar': 846, 'adaaaa': 14, 'caprespalingadem': 398, 'guys': 713, 'kamar': 960, 'sich': 1988, 'material': 1280, 'sekala': 1930, 'same': 1884, 'with': 2336, 'dialog': 508, 'imajiner': 802, 'seberang': 1912, 'potensial': 1729, 'ambyar': 75, 'aja': 36, 'adcp': 17, 'tahap': 2105, 'offering': 1542, 'price': 1744, 'properti': 1757, 'issue': 843, 'developer': 505, 'create': 445, 'land': 1149, 'bank': 209, 'miris': 1336, 'pinterrr': 1696, 'prihatin': 1746, 'dipinjem': 534, 'tembak': 2150, 'oknum': 1546, 'ikat': 797, 'tutup': 2253, 'anggap': 91, 'hina': 761, 'budaya': 352, 'peduli': 1635, 'pengin': 1642, 'malam': 1245, 'elha': 577, 'musik': 1386, 'musnah': 1389, 'gitar': 685, 'alat': 56, 'duku': 560, 'broo': 343, 'indo': 812, 'umroh': 2272, 'nyaur': 1520, 'kemenkes': 1015, 'nunggak': 1510, 'kadaluarsa': 933, 'administratif': 23, 'joktug': 912, 'esai': 596, 'asal': 133, 'copas': 442, 'google': 699, 'drop': 557, 'ikan': 796, 'zeebo': 2360, 'krta': 1111, 'rebu': 1824, 'trelyon': 2224, 'boro': 329, 'perhatiin': 1659, 'nasib': 1414, 'embat': 582, 'rakus': 1804, 'mapia': 1266, 'mantap': 1262, 'tukar': 2239, 'guling': 708, 'fasilitas': 604, 'ikon': 800, 'semata': 1949, 'usaha': 2292, 'ungkap': 2277, 'bappenas': 216, 'lampu': 1146, 'aladin': 53, 'kejap': 1001, 'mpok': 1363, 'butuhe': 380, 'okeh': 1545, 'mbayar': 1288, 'durung': 567, 'pokoq': 1713, 'utange': 2299, 'ragat': 1797, 'ngunu': 1487, 'kokean': 1072, 'poro': 1724, 'ngamuk': 1443, 'dipakek': 530, 'saling': 1879, 'gowork': 703, 'fatmawati': 606, 'camat': 391, 'serts': 1979, 'flora': 617, 'fauna': 607, 'dalam': 461, 'ambisijokowihancurkanri': 70, 'bandara': 192, 'nyebarin': 1521, 'virus': 2304, 'rujuk': 1857, 'informasicerdas': 822, 'harustau': 744, 'harustahu': 743, 'selandia': 1940, 'mlah': 1339, 'inspirasi': 832, 'hahahahah': 722, 'kamu': 964, 'semarang': 1948, 'udaahhh': 2261, 'laaahh': 1127, 'ngakalin': 1440, 'bayak': 229, 'busuk': 377, 'tampak': 2116, 'brodjonegoro': 342, 'happy': 736, 'bday': 233, 'dear': 483, 'gtck': 706, 'motivasi': 1358, 'lombok': 1206, 'senggigi': 1962, 'gili': 680, 'wish': 2334, 'best': 278, 'life': 1187, 'netas': 1431, 'ternak': 2179, 'hewan': 754, 'cundang': 455, 'ketidakseimbangan': 1043, 'untun': 2280, 'sistem': 2007, 'canbera': 394, 'nichh': 1492, 'jauuuh': 876, 'engineer': 590, 'latih': 1163, 'ngurangin': 1488, 'kualitas': 1115, 'alias': 58, 'korup': 1099, 'jrrrr': 914, 'fernanda': 613, 'resah': 1839, 'virusny': 2305, 'preventif': 1741, 'lockdown': 1203, 'gabisa': 632, 'booster': 327, 'opung': 1560, 'motogp': 1359, 'nilap': 1496, 'anjir': 102, 'pray': 1734, 'alngibul': 62, 'ibarat': 779, 'hubung': 771, 'tiongkok': 2206, 'pesimis': 1676, 'optimis': 1559, 'mercusuar': 1313, 'soekarno': 2026, 'rutin': 1864, 'bhahaha': 285, 'anjenk': 99, 'ngelesnya': 1460, 'gasak': 652, 'nambahin': 1405, 'diem': 515, 'senggang': 1961, 'buru': 372, 'alma': 61, 'oceandy': 1541, 'mulyani': 1375, 'rentang': 1836, 'terjemah': 2174, 'cerpen': 413, 'chekov': 420, 'victor': 2302, 'pogadaev': 1709, 'sunyi': 2081, 'winarni': 2333, 'lestari': 1175, 'jirolu': 900, 'mufti': 1367, 'wibowo': 2331, 'ozzy': 1569, 'lagi': 1131, 'pansos': 1594, 'ragil': 1798, 'komentar': 1077, 'fuji': 627, 'edukasi': 568, 'ujug': 2266, 'star': 2047, 'syndrome': 2097, 'artes': 127, 'norak': 1502, 'gmana': 689, 'pupuk': 1783, 'light': 1188, 'perawan': 1653, 'paham': 1573, 'argumentasi': 123, 'tanduk': 2121, 'cermin': 412, 'amanah': 67, 'tentang': 2166, 'menjalankanny': 1305, 'jngn': 903, 'munafik': 1378, 'lisan': 1198, 'project': 1754, 'pusar': 1786, 'optimalisasi': 1558, 'milenial': 1322, 'koperasi': 1097, 'prov': 1761, 'agung': 30, 'krena': 1103, 'stelah': 2051, 'indoneaia': 813, 'kbijakan': 989, 'kpentingan': 1102, 'koar': 1070, 'wasalam': 2325, 'emamg': 580, 'bangke': 199, 'kaga': 941, 'nekat': 1428, 'urgent': 2288, 'itu': 849, 'konsentrasi': 1087, 'administrasi': 22, 'cabang': 385, 'cilacap': 428, 'mamuju': 1256, 'ruang': 1855, 'lingkup': 1193, 'dipusatin': 535, 'live': 1201, 'konspirasi': 1090, 'global': 687, 'cerdas': 410, 'konkrit': 1085, 'tanggap': 2123, 'darurat': 474, 'terimakasih': 2173, 'ggone': 675, 'mamak': 1253, 'nyetok': 1529, 'lipat': 1196, 'panas': 1586, 'signal': 1990, 'melayu': 1296, 'tenggara': 2163, 'indinesia': 811, 'next': 1434, 'sanggah': 1893, 'air': 35, 'rompak': 1852, 'sekian': 1934, 'barusan': 220, 'temen': 2151, 'komen': 1076, 'ahay': 32, 'teori': 2168, 'populasi': 1723, 'start': 2048, 'this': 2189, 'intro': 838, 'cewe': 415, 'rakjat': 1802, 'ciye': 435, 'karyawan': 979, 'jhtnya': 892, 'milik': 1325, 'warung': 2324, 'ojek': 1544, 'antusias': 112, 'woah': 2343, 'siamang': 1984, 'kadang': 934, 'khawatir': 1049, 'ngakak': 1439, 'deret': 500, 'menko': 1306, 'ngatasin': 1451, 'kere': 1027, 'peak': 1632, 'alutsista': 65, 'pespur': 1677, 'tempur': 2156, 'kapal': 973, 'selam': 1938, 'ntah': 1504, 'agak': 26, 'blio': 311, 'berhentiin': 269, 'judul': 918, 'kelar': 1005, 'list': 1199, 'stop': 2055, 'anda': 87, 'sandang': 1889, 'papan': 1601, 'sebentar': 1911, 'wajah': 2312, 'sekalipun': 1932, 'donk': 551, 'yntkts': 2352, 'mbangun': 1287, 'direktur': 537, 'siti': 2011, 'khalimah': 1048, 'aku': 51, 'tunggak': 2245, 'pasien': 1614, 'spanjang': 2038, 'ragu': 1799, 'pelan': 1637, 'budak': 351, 'gilir': 681, 'produktif': 1751, 'kiraain': 1059, 'yakarta': 2348, 'markues': 1270, 'heemm': 750, 'sensitif': 1966, 'masing': 1275, 'gerbang': 672, 'imbang': 803, 'ide': 787, 'nazam': 1417, 'pasir': 1616, 'kilafah': 1055, 'medsos': 1291, 'terang': 2170, 'provisi': 1763, 'aju': 41, 'sragen': 2042, 'kalah': 950, 'surakarta': 2085, 'strategi': 2057, 'wisnuwardana': 2335, 'pentol': 1647, 'aktivis': 50, 'forum': 624, 'menit': 1303, 'tawar': 2139, 'khilafah': 1050, 'generator': 667, 'taeeek': 2101, 'teleeek': 2147, 'njaraaaaaan': 1498, 'koko': 1073, 'accord': 9, 'cuit': 449, 'konflik': 1084, 'artikel': 129, 'halo': 725, 'beijing': 243, 'ngabisin': 1436, 'adil': 21, 'waaah': 2308, 'maksain': 1240, 'ikatancintaep': 798, 'usul': 2295, 'mekar': 1295, 'jember': 885, 'blambangan': 308, 'turki': 2250, 'ankara': 103, 'istanbul': 845, 'attaturk': 152, 'reformasi': 1826, 'konstantinopel': 1091, 'maksiat': 1241, 'moral': 1354, 'bahasa': 176, 'anakkolong': 81, 'rajalela': 1800, 'ngaca': 1437, 'napa': 1410, 'cebong': 403, 'budug': 356, 'desak': 503, 'terminal': 2176, 'blok': 312, 'salaam': 1876, 'terminalbus': 2177, 'terminalbusblokm': 2178, 'senin': 1964, 'libur': 1185, 'lesgo': 1174, 'bokek': 323, 'nggk': 1476, 'mayit': 1284, 'sridiana': 2043, 'komitmen': 1080, 'banyakin': 213, 'panggang': 1592, 'deal': 482, 'tonton': 2215, 'ababil': 1, 'incheon': 809, 'bus': 376, 'tetangga': 2183, 'hiks': 758, 'jaya': 879, 'jatim': 874, 'besuk': 280, 'fess': 614, 'misal': 1337, 'bubar': 349, 'cucok': 448, 'lari': 1161, 'maling': 1251, 'oligarki': 1548, 'imigran': 805, 'kader': 935, 'laen': 1128, 'celaka': 405, 'camry': 393, 'lalai': 1142, 'kemudi': 1017}\n"
          ]
        }
      ]
    },
    {
      "cell_type": "code",
      "source": [
        "print(y_test)"
      ],
      "metadata": {
        "id": "pR5VxO0mOpYi",
        "colab": {
          "base_uri": "https://localhost:8080/"
        },
        "outputId": "fc83bc16-878c-447b-8a57-bccd660763ae"
      },
      "execution_count": null,
      "outputs": [
        {
          "output_type": "stream",
          "name": "stdout",
          "text": [
            "120    1\n",
            "331    1\n",
            "39     0\n",
            "636    1\n",
            "514    1\n",
            "      ..\n",
            "132    1\n",
            "292    1\n",
            "41     1\n",
            "108    1\n",
            "264    1\n",
            "Name: Hasil, Length: 144, dtype: category\n",
            "Categories (3, int64): [-1, 0, 1]\n"
          ]
        }
      ]
    },
    {
      "cell_type": "code",
      "source": [
        "#Performa Algoritma KNN\n",
        "from sklearn.neighbors import KNeighborsClassifier\n",
        "\n",
        "knn = KNeighborsClassifier(n_neighbors=18, metric=\"euclidean\")"
      ],
      "metadata": {
        "id": "qxq3Z6MYO0RW"
      },
      "execution_count": null,
      "outputs": []
    },
    {
      "cell_type": "code",
      "source": [
        "#K-fold Cross Validation\n",
        "from sklearn.model_selection import cross_val_score\n",
        "valid = cross_val_score(estimator = knn , X = X_tf_idf, y=y , cv=10)\n",
        "print(\"Cross Validation results for 10 folds\")\n",
        "print(valid)\n",
        "print(f\"Mean for cross val is {valid.mean()}\")\n",
        "print(f\"std for the cross val is {valid.std()}\")"
      ],
      "metadata": {
        "colab": {
          "base_uri": "https://localhost:8080/"
        },
        "id": "12-aIAtqeheC",
        "outputId": "28abc2ae-c92c-43d2-c38b-f88067bbb454"
      },
      "execution_count": null,
      "outputs": [
        {
          "output_type": "stream",
          "name": "stdout",
          "text": [
            "Cross Validation results for 10 folds\n",
            "[0.88888889 0.88888889 0.875      0.875      0.875      0.875\n",
            " 0.875      0.88732394 0.88732394 0.88732394]\n",
            "Mean for cross val is 0.8814749608763692\n",
            "std for the cross val is 0.006497615314721509\n"
          ]
        }
      ]
    },
    {
      "cell_type": "code",
      "source": [
        "#Training Data\n",
        "klasifikasi = knn.fit(Train_X_tf_idf, y_train)\n",
        "\n",
        "#Predict Data\n",
        "prediksi = klasifikasi.predict(Test_X_tf_idf)"
      ],
      "metadata": {
        "id": "9dmaZRhRYUS5"
      },
      "execution_count": null,
      "outputs": []
    },
    {
      "cell_type": "code",
      "source": [
        "#Akurasi, Presisi, Recall\n",
        "from sklearn.metrics import classification_report , accuracy_score , confusion_matrix\n",
        "\n",
        "print(f\"Classification Repport\\n  {classification_report(y_test , prediksi)}\")\n",
        "\n",
        "print(\"\\n\\n\")\n",
        "print(f\"Confudion Matrix  \\n {confusion_matrix(y_test , prediksi)}\")\n",
        "\n",
        "print(\"\\n\\n\")\n",
        "print(f\"Accuracy score   {accuracy_score(y_test , prediksi)}\")"
      ],
      "metadata": {
        "colab": {
          "base_uri": "https://localhost:8080/"
        },
        "id": "0rUW9a6AY6Ud",
        "outputId": "0765d5a1-15d2-4a14-bf6f-85c37b3dbef3"
      },
      "execution_count": null,
      "outputs": [
        {
          "output_type": "stream",
          "name": "stdout",
          "text": [
            "Classification Repport\n",
            "                precision    recall  f1-score   support\n",
            "\n",
            "          -1       0.00      0.00      0.00         9\n",
            "           0       0.00      0.00      0.00         1\n",
            "           1       0.93      1.00      0.96       134\n",
            "\n",
            "    accuracy                           0.93       144\n",
            "   macro avg       0.31      0.33      0.32       144\n",
            "weighted avg       0.87      0.93      0.90       144\n",
            "\n",
            "\n",
            "\n",
            "\n",
            "Confudion Matrix  \n",
            " [[  0   0   9]\n",
            " [  0   0   1]\n",
            " [  0   0 134]]\n",
            "\n",
            "\n",
            "\n",
            "Accuracy score   0.9305555555555556\n"
          ]
        },
        {
          "output_type": "stream",
          "name": "stderr",
          "text": [
            "/usr/local/lib/python3.7/dist-packages/sklearn/metrics/_classification.py:1318: UndefinedMetricWarning: Precision and F-score are ill-defined and being set to 0.0 in labels with no predicted samples. Use `zero_division` parameter to control this behavior.\n",
            "  _warn_prf(average, modifier, msg_start, len(result))\n",
            "/usr/local/lib/python3.7/dist-packages/sklearn/metrics/_classification.py:1318: UndefinedMetricWarning: Precision and F-score are ill-defined and being set to 0.0 in labels with no predicted samples. Use `zero_division` parameter to control this behavior.\n",
            "  _warn_prf(average, modifier, msg_start, len(result))\n",
            "/usr/local/lib/python3.7/dist-packages/sklearn/metrics/_classification.py:1318: UndefinedMetricWarning: Precision and F-score are ill-defined and being set to 0.0 in labels with no predicted samples. Use `zero_division` parameter to control this behavior.\n",
            "  _warn_prf(average, modifier, msg_start, len(result))\n"
          ]
        }
      ]
    }
  ]
}